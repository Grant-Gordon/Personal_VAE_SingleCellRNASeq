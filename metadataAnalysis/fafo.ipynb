{
 "cells": [
  {
   "cell_type": "code",
   "execution_count": null,
   "id": "afdf8891",
   "metadata": {},
   "outputs": [],
   "source": [
    "import pandas as pd\n",
    "import glob\n",
    "import os \n",
    "import pickle"
   ]
  },
  {
   "cell_type": "code",
   "execution_count": null,
   "id": "514f0054",
   "metadata": {},
   "outputs": [],
   "source": [
    "DATA_DIR = \"/mnt/projects/debruinz_project/july2024_census_data/full/\"\n",
    "metadata_paths = glob.glob(f\"{DATA_DIR}*.pkl\", recursive=True)\n",
    "\n",
    "sampled_paths = metadata_paths[0::10] # every 10th file \n",
    "\n",
    "dfs = [pd.read_pickle(path) for path in sampled_paths]\n",
    "\n",
    "metadata_df = pd.concat(dfs, ignore_index=True)\n"
   ]
  },
  {
   "cell_type": "code",
   "execution_count": null,
   "id": "2c5da5f8",
   "metadata": {},
   "outputs": [],
   "source": [
    "summary = []\n",
    "for col in metadata_df.columns:\n",
    "    col_data = metadata_df[col]\n",
    "    field_info ={\n",
    "\n",
    "        \"Fields\":col,\n",
    "        \"Type\": col_data.dtype,\n",
    "        \"Num Unique\": col_data.nunique(),\n",
    "        \"Examples\": col_data.dropna().unique()[:3]\n",
    "    }\n",
    "    summary.append(field_info)\n",
    "\n",
    "summary_df = pd.DataFrame(summary)\n",
    "summary_df"
   ]
  }
 ],
 "metadata": {
  "language_info": {
   "name": "python"
  }
 },
 "nbformat": 4,
 "nbformat_minor": 5
}
